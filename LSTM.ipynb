{
 "cells": [
  {
   "cell_type": "code",
   "execution_count": 1,
   "id": "73457986",
   "metadata": {},
   "outputs": [],
   "source": [
    "#import needed libraries\n",
    "import tensorflow as tf\n",
    "import string\n",
    "import numpy as np\n",
    "from tensorflow.keras.preprocessing.text import Tokenizer\n",
    "from tensorflow.keras.utils import to_categorical\n",
    "from tensorflow.keras.models import Sequential\n",
    "from tensorflow.keras.layers import Dense, LSTM, Embedding\n",
    "from tensorflow.keras.preprocessing.sequence import pad_sequences\n"
   ]
  },
  {
   "cell_type": "code",
   "execution_count": 2,
   "id": "320e3df0",
   "metadata": {},
   "outputs": [],
   "source": [
    "# open the shakespear text file and join all lines using join function \n",
    "# removing the special characters using rstrip function\n",
    "\n",
    "with open('t8.shakespeare.txt') as f:\n",
    "    data = \" \".join([l.rstrip() for l in f]) \n",
    "    #data=f.read()"
   ]
  },
  {
   "cell_type": "code",
   "execution_count": 3,
   "id": "1c2590a1",
   "metadata": {},
   "outputs": [
    {
     "data": {
      "text/plain": [
       "5437069"
      ]
     },
     "execution_count": 3,
     "metadata": {},
     "output_type": "execute_result"
    }
   ],
   "source": [
    "len(data)"
   ]
  },
  {
   "cell_type": "code",
   "execution_count": 4,
   "id": "7fb668f6",
   "metadata": {},
   "outputs": [],
   "source": [
    "#define the preprocessing function for data cleaning and tokenizzing\n",
    "def preprocess_text(text):\n",
    "    tokens = text.split()\n",
    "    table = str.maketrans('','',string.punctuation)\n",
    "    tokens = [w.translate(table) for w in tokens]\n",
    "    tokens = [word for word in tokens if word.isalpha()]\n",
    "    tokens = [word.lower() for word in tokens]\n",
    "    return tokens"
   ]
  },
  {
   "cell_type": "code",
   "execution_count": 5,
   "id": "4a24446c",
   "metadata": {},
   "outputs": [
    {
     "name": "stdout",
     "output_type": "stream",
     "text": [
      "['from', 'fairest', 'creatures', 'we', 'desire', 'increase', 'that', 'thereby', 'beautys', 'rose', 'might', 'never', 'die', 'but', 'as', 'the', 'riper', 'should', 'by', 'time', 'decease', 'his', 'tender', 'heir', 'might', 'bear', 'his', 'memory', 'but', 'thou', 'contracted', 'to', 'thine', 'own', 'bright', 'eyes', 'feedst', 'thy', 'lights', 'flame', 'with', 'selfsubstantial', 'fuel', 'making', 'a', 'famine', 'where', 'abundance', 'lies', 'thy']\n"
     ]
    }
   ],
   "source": [
    "tokens = preprocess_text(data)\n",
    "print(tokens[:50])\n"
   ]
  },
  {
   "cell_type": "code",
   "execution_count": 6,
   "id": "552ddb1d",
   "metadata": {},
   "outputs": [
    {
     "data": {
      "text/plain": [
       "898199"
      ]
     },
     "execution_count": 6,
     "metadata": {},
     "output_type": "execute_result"
    }
   ],
   "source": [
    "len(tokens)                    # count of tokens"
   ]
  },
  {
   "cell_type": "code",
   "execution_count": 7,
   "id": "7e9be223",
   "metadata": {},
   "outputs": [
    {
     "data": {
      "text/plain": [
       "27956"
      ]
     },
     "execution_count": 7,
     "metadata": {},
     "output_type": "execute_result"
    }
   ],
   "source": [
    "len(set(tokens))                #count of uniqe words"
   ]
  },
  {
   "cell_type": "code",
   "execution_count": 8,
   "id": "17ef76e0",
   "metadata": {
    "scrolled": true
   },
   "outputs": [
    {
     "name": "stdout",
     "output_type": "stream",
     "text": [
      "49997\n"
     ]
    }
   ],
   "source": [
    "line_size = 5      \n",
    "lines = []            # lines combination\n",
    "\n",
    "# this loop generate all posibble lines combinations\n",
    "\n",
    "for i in range(line_size, len(tokens)):\n",
    "  sequence = tokens[i-line_size:i]\n",
    "  line = ' '.join(sequence)\n",
    "  lines.append(line)\n",
    "\n",
    "# not taking all the data as it is huge\n",
    "\n",
    "  if i > 50000:\n",
    "                          \n",
    "    break\n",
    "\n",
    "    \n",
    "print(len(lines))           #print the number of lines generated"
   ]
  },
  {
   "cell_type": "code",
   "execution_count": 9,
   "id": "ea37ef69",
   "metadata": {},
   "outputs": [],
   "source": [
    "#generate the word index and the sequence of words represeneted in integers"
   ]
  },
  {
   "cell_type": "code",
   "execution_count": 10,
   "id": "f31a3337",
   "metadata": {},
   "outputs": [],
   "source": [
    "tokenizer = Tokenizer()\n",
    "tokenizer.fit_on_texts(lines)\n",
    "sequences = tokenizer.texts_to_sequences(lines) "
   ]
  },
  {
   "cell_type": "code",
   "execution_count": 11,
   "id": "47451d5b",
   "metadata": {},
   "outputs": [],
   "source": [
    "sequences = np.array(sequences)\n",
    "# convert the sequence to numpy array"
   ]
  },
  {
   "cell_type": "code",
   "execution_count": 12,
   "id": "9a355fce",
   "metadata": {},
   "outputs": [
    {
     "data": {
      "text/plain": [
       "(49997, 5)"
      ]
     },
     "execution_count": 12,
     "metadata": {},
     "output_type": "execute_result"
    }
   ],
   "source": [
    "sequences.shape"
   ]
  },
  {
   "cell_type": "code",
   "execution_count": 13,
   "id": "9448ecad",
   "metadata": {},
   "outputs": [
    {
     "data": {
      "text/plain": [
       "array([[  45, 1157, 1408,   52,  385],\n",
       "       [1157, 1408,   52,  385,  783],\n",
       "       [1408,   52,  385,  783,    7],\n",
       "       [  52,  385,  783,    7, 1867],\n",
       "       [ 385,  783,    7, 1867,  343]])"
      ]
     },
     "execution_count": 13,
     "metadata": {},
     "output_type": "execute_result"
    }
   ],
   "source": [
    "sequences[0:5]"
   ]
  },
  {
   "cell_type": "code",
   "execution_count": 14,
   "id": "faa3b5bf",
   "metadata": {},
   "outputs": [
    {
     "data": {
      "text/plain": [
       "(array([  45, 1157, 1408,   52]), 385)"
      ]
     },
     "execution_count": 14,
     "metadata": {},
     "output_type": "execute_result"
    }
   ],
   "source": [
    "X, y = sequences[:, :-1], sequences[:,-1]\n",
    "X[0],y[0]                                                   #define the training data x and the output y"
   ]
  },
  {
   "cell_type": "code",
   "execution_count": 15,
   "id": "d6e5404f",
   "metadata": {},
   "outputs": [
    {
     "data": {
      "text/plain": [
       "(49997,)"
      ]
     },
     "execution_count": 15,
     "metadata": {},
     "output_type": "execute_result"
    }
   ],
   "source": [
    "y.shape   "
   ]
  },
  {
   "cell_type": "code",
   "execution_count": 16,
   "id": "2d144f72",
   "metadata": {},
   "outputs": [
    {
     "data": {
      "text/plain": [
       "6029"
      ]
     },
     "execution_count": 16,
     "metadata": {},
     "output_type": "execute_result"
    }
   ],
   "source": [
    "#vocab size or unique words = number of word in the word to index list\n",
    "\n",
    "vocab_size = len(tokenizer.word_index) + 1\n",
    "vocab_size"
   ]
  },
  {
   "cell_type": "code",
   "execution_count": 17,
   "id": "de1570d4",
   "metadata": {},
   "outputs": [],
   "source": [
    "y = to_categorical(y, num_classes=vocab_size)           \n"
   ]
  },
  {
   "cell_type": "code",
   "execution_count": 18,
   "id": "eb55a8c2",
   "metadata": {},
   "outputs": [
    {
     "data": {
      "text/plain": [
       "(49997, 6029)"
      ]
     },
     "execution_count": 18,
     "metadata": {},
     "output_type": "execute_result"
    }
   ],
   "source": [
    "y.shape"
   ]
  },
  {
   "cell_type": "code",
   "execution_count": 19,
   "id": "c51192d5",
   "metadata": {},
   "outputs": [
    {
     "data": {
      "text/plain": [
       "4"
      ]
     },
     "execution_count": 19,
     "metadata": {},
     "output_type": "execute_result"
    }
   ],
   "source": [
    "seq_length = X.shape[1]\n",
    "seq_length                            #context lenght"
   ]
  },
  {
   "cell_type": "code",
   "execution_count": 20,
   "id": "0ad1c36b",
   "metadata": {},
   "outputs": [
    {
     "name": "stdout",
     "output_type": "stream",
     "text": [
      "Model: \"sequential\"\n",
      "_________________________________________________________________\n",
      " Layer (type)                Output Shape              Param #   \n",
      "=================================================================\n",
      " embedding (Embedding)       (None, 4, 50)             301450    \n",
      "                                                                 \n",
      " lstm (LSTM)                 (None, 4, 100)            60400     \n",
      "                                                                 \n",
      " lstm_1 (LSTM)               (None, 100)               80400     \n",
      "                                                                 \n",
      " dense (Dense)               (None, 100)               10100     \n",
      "                                                                 \n",
      " dense_1 (Dense)             (None, 6029)              608929    \n",
      "                                                                 \n",
      "=================================================================\n",
      "Total params: 1061279 (4.05 MB)\n",
      "Trainable params: 1061279 (4.05 MB)\n",
      "Non-trainable params: 0 (0.00 Byte)\n",
      "_________________________________________________________________\n"
     ]
    }
   ],
   "source": [
    "#build the lstm model\n",
    "model = Sequential()\n",
    "model.add(Embedding(vocab_size, 50, input_length=seq_length))\n",
    "model.add(LSTM(100, return_sequences=True))\n",
    "model.add(LSTM(100))\n",
    "model.add(Dense(100, activation='relu'))\n",
    "model.add(Dense(vocab_size, activation='softmax'))\n",
    "model.summary()"
   ]
  },
  {
   "cell_type": "code",
   "execution_count": 21,
   "id": "b93721af",
   "metadata": {},
   "outputs": [],
   "source": [
    "model.compile(loss = 'categorical_crossentropy', optimizer = 'adam', metrics = ['accuracy'])      #compile the model"
   ]
  },
  {
   "cell_type": "code",
   "execution_count": 22,
   "id": "bd39b629",
   "metadata": {},
   "outputs": [
    {
     "name": "stdout",
     "output_type": "stream",
     "text": [
      "Epoch 1/170\n",
      "196/196 [==============================] - 17s 49ms/step - loss: 7.0844 - accuracy: 0.0255\n",
      "Epoch 2/170\n",
      "196/196 [==============================] - 9s 44ms/step - loss: 6.6464 - accuracy: 0.0261\n",
      "Epoch 3/170\n",
      "196/196 [==============================] - 8s 39ms/step - loss: 6.6203 - accuracy: 0.0273\n",
      "Epoch 4/170\n",
      "196/196 [==============================] - 7s 37ms/step - loss: 6.5924 - accuracy: 0.0269\n",
      "Epoch 5/170\n",
      "196/196 [==============================] - 8s 40ms/step - loss: 6.5024 - accuracy: 0.0268\n",
      "Epoch 6/170\n",
      "196/196 [==============================] - 8s 43ms/step - loss: 6.4411 - accuracy: 0.0267\n",
      "Epoch 7/170\n",
      "196/196 [==============================] - 9s 45ms/step - loss: 6.3367 - accuracy: 0.0344\n",
      "Epoch 8/170\n",
      "196/196 [==============================] - 9s 44ms/step - loss: 6.2171 - accuracy: 0.0400\n",
      "Epoch 9/170\n",
      "196/196 [==============================] - 8s 42ms/step - loss: 6.1119 - accuracy: 0.0430\n",
      "Epoch 10/170\n",
      "196/196 [==============================] - 8s 42ms/step - loss: 6.0117 - accuracy: 0.0470\n",
      "Epoch 11/170\n",
      "196/196 [==============================] - 8s 43ms/step - loss: 5.9167 - accuracy: 0.0517\n",
      "Epoch 12/170\n",
      "196/196 [==============================] - 8s 43ms/step - loss: 5.8216 - accuracy: 0.0561\n",
      "Epoch 13/170\n",
      "196/196 [==============================] - 8s 42ms/step - loss: 5.7227 - accuracy: 0.0623\n",
      "Epoch 14/170\n",
      "196/196 [==============================] - 8s 42ms/step - loss: 5.6251 - accuracy: 0.0669\n",
      "Epoch 15/170\n",
      "196/196 [==============================] - 8s 42ms/step - loss: 5.5237 - accuracy: 0.0725\n",
      "Epoch 16/170\n",
      "196/196 [==============================] - 8s 42ms/step - loss: 5.4220 - accuracy: 0.0777\n",
      "Epoch 17/170\n",
      "196/196 [==============================] - 8s 43ms/step - loss: 5.3197 - accuracy: 0.0820\n",
      "Epoch 18/170\n",
      "196/196 [==============================] - 8s 41ms/step - loss: 5.2141 - accuracy: 0.0852\n",
      "Epoch 19/170\n",
      "196/196 [==============================] - 8s 42ms/step - loss: 5.1106 - accuracy: 0.0883\n",
      "Epoch 20/170\n",
      "196/196 [==============================] - 8s 41ms/step - loss: 5.0063 - accuracy: 0.0951\n",
      "Epoch 21/170\n",
      "196/196 [==============================] - 9s 48ms/step - loss: 4.9055 - accuracy: 0.0996\n",
      "Epoch 22/170\n",
      "196/196 [==============================] - 9s 45ms/step - loss: 4.8037 - accuracy: 0.1052\n",
      "Epoch 23/170\n",
      "196/196 [==============================] - 12s 61ms/step - loss: 4.7013 - accuracy: 0.1125\n",
      "Epoch 24/170\n",
      "196/196 [==============================] - 9s 46ms/step - loss: 4.6031 - accuracy: 0.1189\n",
      "Epoch 25/170\n",
      "196/196 [==============================] - 8s 42ms/step - loss: 4.5024 - accuracy: 0.1265\n",
      "Epoch 26/170\n",
      "196/196 [==============================] - 9s 45ms/step - loss: 4.4024 - accuracy: 0.1380\n",
      "Epoch 27/170\n",
      "196/196 [==============================] - 10s 49ms/step - loss: 4.3064 - accuracy: 0.1488\n",
      "Epoch 28/170\n",
      "196/196 [==============================] - 9s 48ms/step - loss: 4.2119 - accuracy: 0.1587\n",
      "Epoch 29/170\n",
      "196/196 [==============================] - 10s 49ms/step - loss: 4.1172 - accuracy: 0.1733\n",
      "Epoch 30/170\n",
      "196/196 [==============================] - 10s 49ms/step - loss: 4.0259 - accuracy: 0.1859\n",
      "Epoch 31/170\n",
      "196/196 [==============================] - 11s 58ms/step - loss: 3.9393 - accuracy: 0.1972\n",
      "Epoch 32/170\n",
      "196/196 [==============================] - 9s 44ms/step - loss: 3.8561 - accuracy: 0.2096\n",
      "Epoch 33/170\n",
      "196/196 [==============================] - 9s 47ms/step - loss: 3.7767 - accuracy: 0.2207\n",
      "Epoch 34/170\n",
      "196/196 [==============================] - 9s 47ms/step - loss: 3.6980 - accuracy: 0.2333\n",
      "Epoch 35/170\n",
      "196/196 [==============================] - 9s 45ms/step - loss: 3.6214 - accuracy: 0.2466\n",
      "Epoch 36/170\n",
      "196/196 [==============================] - 9s 45ms/step - loss: 3.5480 - accuracy: 0.2583\n",
      "Epoch 37/170\n",
      "196/196 [==============================] - 8s 42ms/step - loss: 3.4724 - accuracy: 0.2707\n",
      "Epoch 38/170\n",
      "196/196 [==============================] - 8s 43ms/step - loss: 3.4060 - accuracy: 0.2829\n",
      "Epoch 39/170\n",
      "196/196 [==============================] - 11s 58ms/step - loss: 3.3392 - accuracy: 0.2931\n",
      "Epoch 40/170\n",
      "196/196 [==============================] - 11s 54ms/step - loss: 3.2708 - accuracy: 0.3049\n",
      "Epoch 41/170\n",
      "196/196 [==============================] - 10s 49ms/step - loss: 3.2128 - accuracy: 0.3138\n",
      "Epoch 42/170\n",
      "196/196 [==============================] - 9s 46ms/step - loss: 3.1507 - accuracy: 0.3242\n",
      "Epoch 43/170\n",
      "196/196 [==============================] - 10s 53ms/step - loss: 3.0949 - accuracy: 0.3354\n",
      "Epoch 44/170\n",
      "196/196 [==============================] - 11s 56ms/step - loss: 3.0372 - accuracy: 0.3449\n",
      "Epoch 45/170\n",
      "196/196 [==============================] - 9s 48ms/step - loss: 2.9805 - accuracy: 0.3552\n",
      "Epoch 46/170\n",
      "196/196 [==============================] - 9s 46ms/step - loss: 2.9310 - accuracy: 0.3643\n",
      "Epoch 47/170\n",
      "196/196 [==============================] - 8s 43ms/step - loss: 2.8781 - accuracy: 0.3767\n",
      "Epoch 48/170\n",
      "196/196 [==============================] - 10s 49ms/step - loss: 2.8248 - accuracy: 0.3846\n",
      "Epoch 49/170\n",
      "196/196 [==============================] - 9s 45ms/step - loss: 2.7840 - accuracy: 0.3922\n",
      "Epoch 50/170\n",
      "196/196 [==============================] - 9s 47ms/step - loss: 2.7319 - accuracy: 0.4009\n",
      "Epoch 51/170\n",
      "196/196 [==============================] - 10s 51ms/step - loss: 2.6872 - accuracy: 0.4099\n",
      "Epoch 52/170\n",
      "196/196 [==============================] - 9s 45ms/step - loss: 2.6464 - accuracy: 0.4196\n",
      "Epoch 53/170\n",
      "196/196 [==============================] - 9s 47ms/step - loss: 2.6030 - accuracy: 0.4248\n",
      "Epoch 54/170\n",
      "196/196 [==============================] - 8s 42ms/step - loss: 2.5618 - accuracy: 0.4341\n",
      "Epoch 55/170\n",
      "196/196 [==============================] - 8s 43ms/step - loss: 2.5205 - accuracy: 0.4423\n",
      "Epoch 56/170\n",
      "196/196 [==============================] - 9s 44ms/step - loss: 2.4766 - accuracy: 0.4499\n",
      "Epoch 57/170\n",
      "196/196 [==============================] - 9s 44ms/step - loss: 2.4421 - accuracy: 0.4563\n",
      "Epoch 58/170\n",
      "196/196 [==============================] - 8s 42ms/step - loss: 2.3980 - accuracy: 0.4671\n",
      "Epoch 59/170\n",
      "196/196 [==============================] - 8s 41ms/step - loss: 2.3585 - accuracy: 0.4763\n",
      "Epoch 60/170\n",
      "196/196 [==============================] - 8s 41ms/step - loss: 2.3308 - accuracy: 0.4807\n",
      "Epoch 61/170\n",
      "196/196 [==============================] - 9s 44ms/step - loss: 2.2988 - accuracy: 0.4860\n",
      "Epoch 62/170\n",
      "196/196 [==============================] - 10s 49ms/step - loss: 2.2559 - accuracy: 0.4957\n",
      "Epoch 63/170\n",
      "196/196 [==============================] - 11s 56ms/step - loss: 2.2275 - accuracy: 0.5029\n",
      "Epoch 64/170\n",
      "196/196 [==============================] - 8s 41ms/step - loss: 2.1970 - accuracy: 0.5066\n",
      "Epoch 65/170\n",
      "196/196 [==============================] - 10s 50ms/step - loss: 2.1630 - accuracy: 0.5144\n",
      "Epoch 66/170\n",
      "196/196 [==============================] - 10s 49ms/step - loss: 2.1344 - accuracy: 0.5186\n",
      "Epoch 67/170\n",
      "196/196 [==============================] - 8s 43ms/step - loss: 2.0953 - accuracy: 0.5312\n",
      "Epoch 68/170\n",
      "196/196 [==============================] - 8s 42ms/step - loss: 2.0684 - accuracy: 0.5350\n",
      "Epoch 69/170\n",
      "196/196 [==============================] - 8s 41ms/step - loss: 2.0392 - accuracy: 0.5390\n",
      "Epoch 70/170\n",
      "196/196 [==============================] - 11s 54ms/step - loss: 2.0097 - accuracy: 0.5467\n",
      "Epoch 71/170\n",
      "196/196 [==============================] - 9s 45ms/step - loss: 1.9835 - accuracy: 0.5519\n",
      "Epoch 72/170\n",
      "196/196 [==============================] - 9s 46ms/step - loss: 1.9591 - accuracy: 0.5563\n",
      "Epoch 73/170\n",
      "196/196 [==============================] - 9s 46ms/step - loss: 1.9242 - accuracy: 0.5641\n",
      "Epoch 74/170\n",
      "196/196 [==============================] - 10s 49ms/step - loss: 1.9020 - accuracy: 0.5686\n",
      "Epoch 75/170\n",
      "196/196 [==============================] - 8s 42ms/step - loss: 1.8722 - accuracy: 0.5755\n",
      "Epoch 76/170\n",
      "196/196 [==============================] - 8s 41ms/step - loss: 1.8417 - accuracy: 0.5821\n",
      "Epoch 77/170\n",
      "196/196 [==============================] - 8s 41ms/step - loss: 1.8209 - accuracy: 0.5868\n",
      "Epoch 78/170\n",
      "196/196 [==============================] - 8s 41ms/step - loss: 1.7903 - accuracy: 0.5930\n",
      "Epoch 79/170\n",
      "196/196 [==============================] - 8s 41ms/step - loss: 1.7657 - accuracy: 0.5981\n",
      "Epoch 80/170\n",
      "196/196 [==============================] - 8s 39ms/step - loss: 1.7411 - accuracy: 0.6026\n",
      "Epoch 81/170\n",
      "196/196 [==============================] - 8s 39ms/step - loss: 1.7254 - accuracy: 0.6071\n",
      "Epoch 82/170\n",
      "196/196 [==============================] - 8s 39ms/step - loss: 1.7003 - accuracy: 0.6115\n",
      "Epoch 83/170\n",
      "196/196 [==============================] - 8s 39ms/step - loss: 1.6757 - accuracy: 0.6174\n",
      "Epoch 84/170\n",
      "196/196 [==============================] - 8s 39ms/step - loss: 1.6561 - accuracy: 0.6197\n",
      "Epoch 85/170\n",
      "196/196 [==============================] - 8s 39ms/step - loss: 1.6333 - accuracy: 0.6245\n",
      "Epoch 86/170\n",
      "196/196 [==============================] - 8s 39ms/step - loss: 1.6082 - accuracy: 0.6312\n",
      "Epoch 87/170\n",
      "196/196 [==============================] - 8s 39ms/step - loss: 1.5882 - accuracy: 0.6333\n",
      "Epoch 88/170\n",
      "196/196 [==============================] - 8s 39ms/step - loss: 1.5674 - accuracy: 0.6398\n",
      "Epoch 89/170\n",
      "196/196 [==============================] - 8s 39ms/step - loss: 1.5435 - accuracy: 0.6445\n",
      "Epoch 90/170\n",
      "196/196 [==============================] - 8s 40ms/step - loss: 1.5178 - accuracy: 0.6514\n",
      "Epoch 91/170\n",
      "196/196 [==============================] - 8s 41ms/step - loss: 1.4938 - accuracy: 0.6560\n",
      "Epoch 92/170\n",
      "196/196 [==============================] - 8s 40ms/step - loss: 1.4777 - accuracy: 0.6595\n",
      "Epoch 93/170\n",
      "196/196 [==============================] - 9s 44ms/step - loss: 1.4657 - accuracy: 0.6622\n",
      "Epoch 94/170\n",
      "196/196 [==============================] - 9s 47ms/step - loss: 1.4403 - accuracy: 0.6685\n",
      "Epoch 95/170\n",
      "196/196 [==============================] - 9s 47ms/step - loss: 1.4193 - accuracy: 0.6716\n",
      "Epoch 96/170\n",
      "196/196 [==============================] - 9s 46ms/step - loss: 1.4059 - accuracy: 0.6742\n",
      "Epoch 97/170\n",
      "196/196 [==============================] - 9s 47ms/step - loss: 1.3880 - accuracy: 0.6777\n",
      "Epoch 98/170\n",
      "196/196 [==============================] - 10s 51ms/step - loss: 1.3604 - accuracy: 0.6850\n",
      "Epoch 99/170\n",
      "196/196 [==============================] - 11s 55ms/step - loss: 1.3460 - accuracy: 0.6880\n",
      "Epoch 100/170\n",
      "196/196 [==============================] - 9s 45ms/step - loss: 1.3255 - accuracy: 0.6929\n",
      "Epoch 101/170\n",
      "196/196 [==============================] - 10s 49ms/step - loss: 1.3094 - accuracy: 0.6945\n",
      "Epoch 102/170\n",
      "196/196 [==============================] - 8s 42ms/step - loss: 1.2926 - accuracy: 0.6980\n",
      "Epoch 103/170\n",
      "196/196 [==============================] - 8s 40ms/step - loss: 1.2785 - accuracy: 0.7017\n",
      "Epoch 104/170\n",
      "196/196 [==============================] - 8s 41ms/step - loss: 1.2645 - accuracy: 0.7019\n",
      "Epoch 105/170\n",
      "196/196 [==============================] - 8s 40ms/step - loss: 1.2520 - accuracy: 0.7061\n",
      "Epoch 106/170\n",
      "196/196 [==============================] - 8s 40ms/step - loss: 1.2243 - accuracy: 0.7141\n",
      "Epoch 107/170\n",
      "196/196 [==============================] - 8s 40ms/step - loss: 1.2198 - accuracy: 0.7132\n",
      "Epoch 108/170\n",
      "196/196 [==============================] - 8s 40ms/step - loss: 1.1931 - accuracy: 0.7221\n",
      "Epoch 109/170\n",
      "196/196 [==============================] - 8s 40ms/step - loss: 1.1725 - accuracy: 0.7238\n",
      "Epoch 110/170\n",
      "196/196 [==============================] - 8s 41ms/step - loss: 1.1570 - accuracy: 0.7292\n",
      "Epoch 111/170\n",
      "196/196 [==============================] - 8s 42ms/step - loss: 1.1420 - accuracy: 0.7299\n",
      "Epoch 112/170\n",
      "196/196 [==============================] - 8s 41ms/step - loss: 1.1221 - accuracy: 0.7388\n",
      "Epoch 113/170\n",
      "196/196 [==============================] - 8s 40ms/step - loss: 1.1064 - accuracy: 0.7395\n",
      "Epoch 114/170\n",
      "196/196 [==============================] - 8s 40ms/step - loss: 1.1011 - accuracy: 0.7379\n",
      "Epoch 115/170\n",
      "196/196 [==============================] - 8s 42ms/step - loss: 1.0850 - accuracy: 0.7439\n",
      "Epoch 116/170\n",
      "196/196 [==============================] - 8s 42ms/step - loss: 1.0751 - accuracy: 0.7456\n",
      "Epoch 117/170\n",
      "196/196 [==============================] - 10s 50ms/step - loss: 1.0520 - accuracy: 0.7518\n",
      "Epoch 118/170\n",
      "196/196 [==============================] - 9s 44ms/step - loss: 1.0394 - accuracy: 0.7541\n",
      "Epoch 119/170\n",
      "196/196 [==============================] - 8s 41ms/step - loss: 1.0307 - accuracy: 0.7553\n",
      "Epoch 120/170\n",
      "196/196 [==============================] - 8s 41ms/step - loss: 1.0114 - accuracy: 0.7607\n",
      "Epoch 121/170\n",
      "196/196 [==============================] - 8s 41ms/step - loss: 1.0009 - accuracy: 0.7619\n",
      "Epoch 122/170\n",
      "196/196 [==============================] - 8s 41ms/step - loss: 0.9903 - accuracy: 0.7659\n",
      "Epoch 123/170\n",
      "196/196 [==============================] - 8s 40ms/step - loss: 0.9728 - accuracy: 0.7688\n",
      "Epoch 124/170\n",
      "196/196 [==============================] - 8s 43ms/step - loss: 0.9621 - accuracy: 0.7706\n",
      "Epoch 125/170\n",
      "196/196 [==============================] - 8s 41ms/step - loss: 0.9415 - accuracy: 0.7777\n",
      "Epoch 126/170\n",
      "196/196 [==============================] - 8s 41ms/step - loss: 0.9334 - accuracy: 0.7778\n",
      "Epoch 127/170\n",
      "196/196 [==============================] - 8s 41ms/step - loss: 0.9148 - accuracy: 0.7833\n",
      "Epoch 128/170\n",
      "196/196 [==============================] - 8s 40ms/step - loss: 0.9025 - accuracy: 0.7851\n",
      "Epoch 129/170\n",
      "196/196 [==============================] - 8s 41ms/step - loss: 0.8914 - accuracy: 0.7865\n",
      "Epoch 130/170\n",
      "196/196 [==============================] - 8s 40ms/step - loss: 0.8743 - accuracy: 0.7933\n",
      "Epoch 131/170\n",
      "196/196 [==============================] - 8s 41ms/step - loss: 0.8560 - accuracy: 0.7971\n",
      "Epoch 132/170\n",
      "196/196 [==============================] - 8s 41ms/step - loss: 0.8501 - accuracy: 0.7975\n",
      "Epoch 133/170\n",
      "196/196 [==============================] - 8s 41ms/step - loss: 0.8448 - accuracy: 0.7977\n",
      "Epoch 134/170\n",
      "196/196 [==============================] - 8s 41ms/step - loss: 0.8265 - accuracy: 0.8041\n",
      "Epoch 135/170\n",
      "196/196 [==============================] - 8s 41ms/step - loss: 0.8148 - accuracy: 0.8058\n",
      "Epoch 136/170\n",
      "196/196 [==============================] - 9s 44ms/step - loss: 0.8069 - accuracy: 0.8067\n",
      "Epoch 137/170\n",
      "196/196 [==============================] - 9s 45ms/step - loss: 0.7988 - accuracy: 0.8101\n",
      "Epoch 138/170\n",
      "196/196 [==============================] - 9s 46ms/step - loss: 0.7939 - accuracy: 0.8106\n",
      "Epoch 139/170\n",
      "196/196 [==============================] - 9s 44ms/step - loss: 0.7842 - accuracy: 0.8122\n",
      "Epoch 140/170\n",
      "196/196 [==============================] - 8s 42ms/step - loss: 0.7687 - accuracy: 0.8157\n",
      "Epoch 141/170\n",
      "196/196 [==============================] - 8s 42ms/step - loss: 0.7663 - accuracy: 0.8158\n",
      "Epoch 142/170\n",
      "196/196 [==============================] - 8s 41ms/step - loss: 0.7498 - accuracy: 0.8219\n",
      "Epoch 143/170\n",
      "196/196 [==============================] - 8s 41ms/step - loss: 0.7392 - accuracy: 0.8222\n",
      "Epoch 144/170\n",
      "196/196 [==============================] - 9s 45ms/step - loss: 0.7197 - accuracy: 0.8273\n",
      "Epoch 145/170\n",
      "196/196 [==============================] - 8s 42ms/step - loss: 0.7076 - accuracy: 0.8312\n",
      "Epoch 146/170\n",
      "196/196 [==============================] - 8s 41ms/step - loss: 0.6980 - accuracy: 0.8335\n",
      "Epoch 147/170\n",
      "196/196 [==============================] - 8s 41ms/step - loss: 0.6919 - accuracy: 0.8325\n",
      "Epoch 148/170\n",
      "196/196 [==============================] - 8s 41ms/step - loss: 0.6761 - accuracy: 0.8372\n",
      "Epoch 149/170\n",
      "196/196 [==============================] - 8s 42ms/step - loss: 0.6636 - accuracy: 0.8420\n",
      "Epoch 150/170\n",
      "196/196 [==============================] - 8s 41ms/step - loss: 0.6605 - accuracy: 0.8419\n",
      "Epoch 151/170\n",
      "196/196 [==============================] - 8s 41ms/step - loss: 0.6543 - accuracy: 0.8416\n",
      "Epoch 152/170\n",
      "196/196 [==============================] - 8s 41ms/step - loss: 0.6458 - accuracy: 0.8438\n",
      "Epoch 153/170\n",
      "196/196 [==============================] - 8s 41ms/step - loss: 0.6286 - accuracy: 0.8488\n",
      "Epoch 154/170\n",
      "196/196 [==============================] - 8s 41ms/step - loss: 0.6193 - accuracy: 0.8528\n",
      "Epoch 155/170\n",
      "196/196 [==============================] - 8s 41ms/step - loss: 0.6100 - accuracy: 0.8544\n",
      "Epoch 156/170\n",
      "196/196 [==============================] - 8s 41ms/step - loss: 0.5994 - accuracy: 0.8564\n",
      "Epoch 157/170\n",
      "196/196 [==============================] - 8s 41ms/step - loss: 0.6014 - accuracy: 0.8542\n",
      "Epoch 158/170\n",
      "196/196 [==============================] - 8s 41ms/step - loss: 0.6013 - accuracy: 0.8539\n",
      "Epoch 159/170\n",
      "196/196 [==============================] - 8s 39ms/step - loss: 0.5930 - accuracy: 0.8558\n",
      "Epoch 160/170\n",
      "196/196 [==============================] - 8s 40ms/step - loss: 0.5836 - accuracy: 0.8585\n",
      "Epoch 161/170\n",
      "196/196 [==============================] - 8s 40ms/step - loss: 0.5615 - accuracy: 0.8645\n",
      "Epoch 162/170\n",
      "196/196 [==============================] - 8s 40ms/step - loss: 0.5578 - accuracy: 0.8656\n",
      "Epoch 163/170\n",
      "196/196 [==============================] - 8s 40ms/step - loss: 0.5431 - accuracy: 0.8706\n",
      "Epoch 164/170\n",
      "196/196 [==============================] - 8s 39ms/step - loss: 0.5295 - accuracy: 0.8727\n",
      "Epoch 165/170\n",
      "196/196 [==============================] - 8s 39ms/step - loss: 0.5256 - accuracy: 0.8748\n",
      "Epoch 166/170\n",
      "196/196 [==============================] - 8s 40ms/step - loss: 0.5247 - accuracy: 0.8742\n",
      "Epoch 167/170\n",
      "196/196 [==============================] - 8s 40ms/step - loss: 0.5174 - accuracy: 0.8745\n",
      "Epoch 168/170\n",
      "196/196 [==============================] - 8s 40ms/step - loss: 0.5150 - accuracy: 0.8748\n",
      "Epoch 169/170\n",
      "196/196 [==============================] - 8s 40ms/step - loss: 0.5129 - accuracy: 0.8752\n",
      "Epoch 170/170\n",
      "196/196 [==============================] - 8s 40ms/step - loss: 0.4966 - accuracy: 0.8800\n"
     ]
    },
    {
     "data": {
      "text/plain": [
       "<keras.src.callbacks.History at 0x1464a25af90>"
      ]
     },
     "execution_count": 22,
     "metadata": {},
     "output_type": "execute_result"
    }
   ],
   "source": [
    "model.fit(X, y, batch_size = 256, epochs = 170)     #trian the model "
   ]
  },
  {
   "cell_type": "code",
   "execution_count": 34,
   "id": "69978d3c",
   "metadata": {},
   "outputs": [
    {
     "data": {
      "text/plain": [
       "'creatures we desire increase that'"
      ]
     },
     "execution_count": 34,
     "metadata": {},
     "output_type": "execute_result"
    }
   ],
   "source": [
    "test=lines[2]\n",
    "test"
   ]
  },
  {
   "cell_type": "code",
   "execution_count": 35,
   "id": "b05d13ef",
   "metadata": {},
   "outputs": [],
   "source": [
    "# evaluation function that predict the next word\n",
    "\n",
    "def generate_text_seq(model, tokenizer, text_seq_length, test, n_words):\n",
    "  text = []\n",
    "\n",
    "  for _ in range(n_words):\n",
    "    encoded = tokenizer.texts_to_sequences([test])[0]\n",
    "    encoded = pad_sequences([encoded], maxlen = text_seq_length, truncating='pre')\n",
    "\n",
    "    y_predict = model.predict(encoded)\n",
    "\n",
    "    predicted_index = np.argmax(y_predict)  # Get the index of the word with the highest probability\n",
    "    predicted_word = tokenizer.index_word[predicted_index]  # Get the corresponding word\n",
    "\n",
    "    test = test + ' ' + predicted_word\n",
    "    text.append(predicted_word)\n",
    "\n",
    "    return ' '.join(text)"
   ]
  },
  {
   "cell_type": "code",
   "execution_count": 38,
   "id": "ac34bfea",
   "metadata": {},
   "outputs": [
    {
     "name": "stdout",
     "output_type": "stream",
     "text": [
      "1/1 [==============================] - 4s 4s/step\n"
     ]
    },
    {
     "data": {
      "text/plain": [
       "'thereby'"
      ]
     },
     "execution_count": 38,
     "metadata": {},
     "output_type": "execute_result"
    }
   ],
   "source": [
    "generate_text_seq(model, tokenizer, seq_length, test, 1)          # predict the next word for the test line "
   ]
  },
  {
   "cell_type": "code",
   "execution_count": null,
   "id": "ec68bbf8",
   "metadata": {},
   "outputs": [],
   "source": []
  }
 ],
 "metadata": {
  "kernelspec": {
   "display_name": "Python 3 (ipykernel)",
   "language": "python",
   "name": "python3"
  },
  "language_info": {
   "codemirror_mode": {
    "name": "ipython",
    "version": 3
   },
   "file_extension": ".py",
   "mimetype": "text/x-python",
   "name": "python",
   "nbconvert_exporter": "python",
   "pygments_lexer": "ipython3",
   "version": "3.11.4"
  }
 },
 "nbformat": 4,
 "nbformat_minor": 5
}
